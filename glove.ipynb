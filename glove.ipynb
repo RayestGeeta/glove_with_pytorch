{
 "cells": [
  {
   "cell_type": "code",
   "execution_count": 11,
   "metadata": {},
   "outputs": [],
   "source": [
    "import torch \n",
    "import torch.nn as nn \n",
    "from glove import *\n",
    "import torch.optim as optim\n",
    "import torch.nn.functional as F\n",
    "from sklearn.manifold import TSNE\n",
    "import numpy as np"
   ]
  },
  {
   "cell_type": "code",
   "execution_count": 12,
   "metadata": {},
   "outputs": [
    {
     "name": "stdout",
     "output_type": "stream",
     "text": [
      "# of words: 1000000\n",
      "Vocabulary length: 52755\n"
     ]
    }
   ],
   "source": [
    "dataset = GloveDataset(open(\"text8\").read(), 1000000)\n",
    "device = torch.device(\"cuda:0\" if torch.cuda.is_available() else \"cpu\")\n",
    "EMBED_DIM = 300\n",
    "glove = GloveModel(dataset._vocab_len, EMBED_DIM)\n",
    "glove = glove.to(device)"
   ]
  },
  {
   "cell_type": "code",
   "execution_count": null,
   "metadata": {},
   "outputs": [
    {
     "name": "stdout",
     "output_type": "stream",
     "text": [
      "Epoch: 1/30 \t Batch: 500/1724 \t Loss: 742.6070358276368\n",
      "Epoch: 1/30 \t Batch: 1000/1724 \t Loss: 757.286794090271\n",
      "Epoch: 1/30 \t Batch: 1500/1724 \t Loss: 336.4401229262352\n",
      "Epoch loss: 661.716105884636\n",
      "Saving model...\n",
      "Epoch: 2/30 \t Batch: 500/1724 \t Loss: 180.10235762000084\n",
      "Epoch: 2/30 \t Batch: 1000/1724 \t Loss: 490.7532871246338\n",
      "Epoch: 2/30 \t Batch: 1500/1724 \t Loss: 503.46504499949515\n",
      "Epoch loss: 654.019794600087\n",
      "Saving model...\n",
      "Epoch: 3/30 \t Batch: 500/1724 \t Loss: 873.729664605856\n",
      "Epoch: 3/30 \t Batch: 1000/1724 \t Loss: 536.1990437984466\n",
      "Epoch: 3/30 \t Batch: 1500/1724 \t Loss: 436.698803416267\n",
      "Epoch loss: 585.3253359740819\n",
      "Saving model...\n",
      "Epoch: 4/30 \t Batch: 500/1724 \t Loss: 1052.7831892296672\n",
      "Epoch: 4/30 \t Batch: 1000/1724 \t Loss: 868.1717390924692\n",
      "Epoch: 4/30 \t Batch: 1500/1724 \t Loss: 752.0615254402161\n",
      "Epoch loss: 640.8059787456027\n",
      "Saving model...\n",
      "Epoch: 5/30 \t Batch: 500/1724 \t Loss: 503.694340762496\n",
      "Epoch: 5/30 \t Batch: 1000/1724 \t Loss: 749.0832456469536\n",
      "Epoch: 5/30 \t Batch: 1500/1724 \t Loss: 939.2047798037529\n",
      "Epoch loss: 644.5157146564861\n",
      "Saving model...\n",
      "Epoch: 6/30 \t Batch: 500/1724 \t Loss: 874.8051940917969\n",
      "Epoch: 6/30 \t Batch: 1000/1724 \t Loss: 666.6701231479644\n",
      "Epoch: 6/30 \t Batch: 1500/1724 \t Loss: 443.01913647651674\n",
      "Epoch loss: 573.6463094980178\n",
      "Saving model...\n",
      "Epoch: 7/30 \t Batch: 500/1724 \t Loss: 829.2681884050369\n",
      "Epoch: 7/30 \t Batch: 1000/1724 \t Loss: 394.0453790367581\n",
      "Epoch: 7/30 \t Batch: 1500/1724 \t Loss: 273.6850046873093\n",
      "Epoch loss: 567.500674964801\n",
      "Saving model...\n",
      "Epoch: 8/30 \t Batch: 500/1724 \t Loss: 1073.4596160888673\n",
      "Epoch: 8/30 \t Batch: 1000/1724 \t Loss: 314.3410092353821\n",
      "Epoch: 8/30 \t Batch: 1500/1724 \t Loss: 212.00543022155762\n",
      "Epoch loss: 576.1761958157024\n",
      "Saving model...\n",
      "Epoch: 9/30 \t Batch: 500/1724 \t Loss: 476.08317642211915\n",
      "Epoch: 9/30 \t Batch: 1000/1724 \t Loss: 630.8501415252686\n",
      "Epoch: 9/30 \t Batch: 1500/1724 \t Loss: 258.57842326164246\n",
      "Epoch loss: 560.4046627885233\n",
      "Saving model...\n",
      "Epoch: 10/30 \t Batch: 500/1724 \t Loss: 634.0418695926667\n",
      "Epoch: 10/30 \t Batch: 1000/1724 \t Loss: 294.18915383815767\n",
      "Epoch: 10/30 \t Batch: 1500/1724 \t Loss: 209.04721603393554\n",
      "Epoch loss: 531.6712875015371\n",
      "Saving model...\n",
      "Epoch: 11/30 \t Batch: 500/1724 \t Loss: 488.17679595947266\n",
      "Epoch: 11/30 \t Batch: 1000/1724 \t Loss: 507.42364807128905\n",
      "Epoch: 11/30 \t Batch: 1500/1724 \t Loss: 603.378524203971\n",
      "Epoch loss: 601.9948661514866\n",
      "Saving model...\n",
      "Epoch: 12/30 \t Batch: 500/1724 \t Loss: 847.9182391576469\n",
      "Epoch: 12/30 \t Batch: 1000/1724 \t Loss: 565.1437459468841\n",
      "Epoch: 12/30 \t Batch: 1500/1724 \t Loss: 541.6108619660139\n",
      "Epoch loss: 562.4036998705369\n",
      "Saving model...\n",
      "Epoch: 13/30 \t Batch: 500/1724 \t Loss: 297.48617763519286\n",
      "Epoch: 13/30 \t Batch: 1000/1724 \t Loss: 531.1001650810242\n",
      "Epoch: 13/30 \t Batch: 1500/1724 \t Loss: 527.7965889334679\n",
      "Epoch loss: 547.0560026268978\n",
      "Saving model...\n",
      "Epoch: 14/30 \t Batch: 500/1724 \t Loss: 512.1292047023774\n",
      "Epoch: 14/30 \t Batch: 1000/1724 \t Loss: 732.7287193924188\n",
      "Epoch: 14/30 \t Batch: 1500/1724 \t Loss: 346.9919162988663\n",
      "Epoch loss: 535.0910065484602\n",
      "Saving model...\n",
      "Epoch: 15/30 \t Batch: 500/1724 \t Loss: 599.4420988559723\n",
      "Epoch: 15/30 \t Batch: 1000/1724 \t Loss: 291.91866344213486\n",
      "Epoch: 15/30 \t Batch: 1500/1724 \t Loss: 415.14820165485145\n",
      "Epoch loss: 543.7433277069729\n",
      "Saving model...\n",
      "Epoch: 16/30 \t Batch: 500/1724 \t Loss: 344.8457460146357\n"
     ]
    }
   ],
   "source": [
    "optimizer = optim.Adagrad(glove.parameters(), lr=0.001)\n",
    "N_EPOCHS = 30\n",
    "BATCH_SIZE = 2048\n",
    "X_MAX = 100\n",
    "ALPHA = 0.75\n",
    "n_batches = int(len(dataset._xij) / BATCH_SIZE)\n",
    "loss_values = list()\n",
    "for e in range(1, N_EPOCHS+1):\n",
    "    batch_i = 0\n",
    "    loss_values = []\n",
    "    for x_ij, i_idx, j_idx in dataset.get_batches(BATCH_SIZE):\n",
    "        x_ij = x_ij.to(device)\n",
    "        i_idx = i_idx.to(device)\n",
    "        j_idx = j_idx.to(device)\n",
    "        \n",
    "        batch_i += 1\n",
    "        \n",
    "        optimizer.zero_grad()\n",
    "        \n",
    "        outputs = glove(i_idx, j_idx)\n",
    "        weights_x = weight_func(x_ij, X_MAX, ALPHA)\n",
    "        #print(torch.log(x_ij.float()+1))\n",
    "        loss = wmse_loss(weights_x, outputs, torch.log(x_ij.float()+1))\n",
    "        \n",
    "        loss.backward()\n",
    "        \n",
    "        optimizer.step()\n",
    "        \n",
    "        loss_values.append(loss.item())\n",
    "        \n",
    "        if batch_i % 500 == 0:\n",
    "            print(\"Epoch: {}/{} \\t Batch: {}/{} \\t Loss: {}\".format(e, N_EPOCHS, batch_i, n_batches, np.mean(loss_values[-20:])))  \n",
    "    print('Epoch loss: {}'.format(np.mean(loss_values)))\n",
    "    print(\"Saving model...\")\n",
    "    torch.save(glove.state_dict(), \"text8.pt\")"
   ]
  },
  {
   "cell_type": "code",
   "execution_count": null,
   "metadata": {},
   "outputs": [],
   "source": [
    "i_idx.size()"
   ]
  },
  {
   "cell_type": "code",
   "execution_count": null,
   "metadata": {},
   "outputs": [],
   "source": []
  }
 ],
 "metadata": {
  "kernelspec": {
   "display_name": "Python 3",
   "language": "python",
   "name": "python3"
  },
  "language_info": {
   "codemirror_mode": {
    "name": "ipython",
    "version": 3
   },
   "file_extension": ".py",
   "mimetype": "text/x-python",
   "name": "python",
   "nbconvert_exporter": "python",
   "pygments_lexer": "ipython3",
   "version": "3.6.8"
  }
 },
 "nbformat": 4,
 "nbformat_minor": 4
}
